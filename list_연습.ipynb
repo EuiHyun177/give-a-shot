{
  "nbformat": 4,
  "nbformat_minor": 0,
  "metadata": {
    "colab": {
      "name": "list 연습.ipynb",
      "provenance": [],
      "authorship_tag": "ABX9TyMfg0TtWa7OS72707FwsOD3",
      "include_colab_link": true
    },
    "kernelspec": {
      "name": "python3",
      "display_name": "Python 3"
    },
    "language_info": {
      "name": "python"
    }
  },
  "cells": [
    {
      "cell_type": "markdown",
      "metadata": {
        "id": "view-in-github",
        "colab_type": "text"
      },
      "source": [
        "<a href=\"https://colab.research.google.com/github/EuiHyun177/give-a-shot/blob/main/list_%EC%97%B0%EC%8A%B5.ipynb\" target=\"_parent\"><img src=\"https://colab.research.google.com/assets/colab-badge.svg\" alt=\"Open In Colab\"/></a>"
      ]
    },
    {
      "cell_type": "code",
      "execution_count": 6,
      "metadata": {
        "colab": {
          "base_uri": "https://localhost:8080/"
        },
        "id": "WXtohiKuTOUM",
        "outputId": "f8b75e09-7a47-4b12-9582-c8bb1f706122"
      },
      "outputs": [
        {
          "output_type": "stream",
          "name": "stdout",
          "text": [
            "[100, 200, 300, 400]\n",
            "<class 'list'>\n"
          ]
        }
      ],
      "source": [
        "l = [100, 200, 300, 400]\n",
        "print(l)\n",
        "print(type(l))\n",
        "#print(dir(l))"
      ]
    },
    {
      "cell_type": "code",
      "source": [
        "print(l[1])\n",
        "l[1]=1000\n",
        "print(l)"
      ],
      "metadata": {
        "colab": {
          "base_uri": "https://localhost:8080/"
        },
        "id": "XkRdwyYfVKdf",
        "outputId": "844c6507-916a-4e86-91dd-1e1262669ac7"
      },
      "execution_count": 12,
      "outputs": [
        {
          "output_type": "stream",
          "name": "stdout",
          "text": [
            "1000\n",
            "[100, 1000, 300, 400]\n"
          ]
        }
      ]
    },
    {
      "cell_type": "code",
      "source": [
        "l = [100, 200, 300, 400]\n",
        "#print(dir(l))\n",
        "l.append(300)  #맨 뒤에 300이라는 값을 넣음\n",
        "print(l)\n",
        "print(l.count(300)) #300의 갯수\n",
        "l.extend([100, 200, 300])  #현재까지 누적된 값들을 출력하고 100, 200, 300을 더 추가(확장)\n",
        "print(l)\n",
        "print(l.index(400))   # 순번카운트? 시작점부터 0번째, 1번째, 2번째,,, 400은 3번째.\n",
        "l.insert(3, 1000) #중간에 끼어들기\n",
        "print(l) \n",
        "l.pop()  #맨 마지막 값을 지워버림\n",
        "print(l)\n",
        "l.remove(1000)   #1000이란 숫자를 없애버림\n",
        "print(l)\n",
        "l.remove(100)   #10이란 숫자를 없애버림.\n",
        "print(l)\n",
        "l.reverse()     #순서를 거꾸로 뒤집음. \n",
        "print(l)\n",
        "l.sort()   #정렬\n",
        "print(l)\n"
      ],
      "metadata": {
        "colab": {
          "base_uri": "https://localhost:8080/"
        },
        "id": "oSbUj6eSVfZt",
        "outputId": "2509f8dc-876d-4fc9-ba49-863348e0ad43"
      },
      "execution_count": 33,
      "outputs": [
        {
          "output_type": "stream",
          "name": "stdout",
          "text": [
            "[100, 200, 300, 400, 300]\n",
            "2\n",
            "[100, 200, 300, 400, 300, 100, 200, 300]\n",
            "3\n",
            "[100, 200, 300, 1000, 400, 300, 100, 200, 300]\n",
            "[100, 200, 300, 1000, 400, 300, 100, 200]\n",
            "[100, 200, 300, 400, 300, 100, 200]\n",
            "[200, 300, 400, 300, 100, 200]\n",
            "[200, 100, 300, 400, 300, 200]\n",
            "[100, 200, 200, 300, 300, 400]\n"
          ]
        }
      ]
    }
  ]
}